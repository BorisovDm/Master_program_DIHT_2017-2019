{
 "cells": [
  {
   "cell_type": "markdown",
   "metadata": {},
   "source": [
    "# Import"
   ]
  },
  {
   "cell_type": "code",
   "execution_count": 1,
   "metadata": {
    "collapsed": true
   },
   "outputs": [],
   "source": [
    "from skimage.io import imread, imshow\n",
    "from skimage import img_as_float, img_as_ubyte\n",
    "import matplotlib.pyplot as plt\n",
    "import pandas as pd\n",
    "import numpy as np\n",
    "import os\n",
    "import csv\n",
    "\n",
    "%matplotlib inline"
   ]
  },
  {
   "cell_type": "markdown",
   "metadata": {},
   "source": [
    "# Read train labels"
   ]
  },
  {
   "cell_type": "code",
   "execution_count": 2,
   "metadata": {
    "collapsed": false
   },
   "outputs": [
    {
     "data": {
      "text/html": [
       "<div>\n",
       "<table border=\"1\" class=\"dataframe\">\n",
       "  <thead>\n",
       "    <tr style=\"text-align: right;\">\n",
       "      <th></th>\n",
       "      <th>id</th>\n",
       "      <th>category</th>\n",
       "    </tr>\n",
       "  </thead>\n",
       "  <tbody>\n",
       "    <tr>\n",
       "      <th>0</th>\n",
       "      <td>10099.png</td>\n",
       "      <td>0</td>\n",
       "    </tr>\n",
       "    <tr>\n",
       "      <th>1</th>\n",
       "      <td>10216.png</td>\n",
       "      <td>0</td>\n",
       "    </tr>\n",
       "    <tr>\n",
       "      <th>2</th>\n",
       "      <td>10235.png</td>\n",
       "      <td>0</td>\n",
       "    </tr>\n",
       "    <tr>\n",
       "      <th>3</th>\n",
       "      <td>10380.png</td>\n",
       "      <td>0</td>\n",
       "    </tr>\n",
       "    <tr>\n",
       "      <th>4</th>\n",
       "      <td>10466.png</td>\n",
       "      <td>0</td>\n",
       "    </tr>\n",
       "  </tbody>\n",
       "</table>\n",
       "</div>"
      ],
      "text/plain": [
       "          id  category\n",
       "0  10099.png         0\n",
       "1  10216.png         0\n",
       "2  10235.png         0\n",
       "3  10380.png         0\n",
       "4  10466.png         0"
      ]
     },
     "execution_count": 2,
     "metadata": {},
     "output_type": "execute_result"
    }
   ],
   "source": [
    "train_labels = pd.read_csv('train_labels.csv')\n",
    "train_labels.head()"
   ]
  },
  {
   "cell_type": "markdown",
   "metadata": {},
   "source": [
    "# Function - return labels"
   ]
  },
  {
   "cell_type": "code",
   "execution_count": 3,
   "metadata": {
    "collapsed": true
   },
   "outputs": [],
   "source": [
    "def return_labels(class_number):\n",
    "    return train_labels[train_labels['category'] == class_number]['id']"
   ]
  },
  {
   "cell_type": "markdown",
   "metadata": {},
   "source": [
    "# Class №0"
   ]
  },
  {
   "cell_type": "code",
   "execution_count": 4,
   "metadata": {
    "collapsed": true
   },
   "outputs": [],
   "source": [
    "class_number = 0\n",
    "labels = return_labels(class_number)"
   ]
  },
  {
   "cell_type": "code",
   "execution_count": 5,
   "metadata": {
    "collapsed": false
   },
   "outputs": [
    {
     "name": "stderr",
     "output_type": "stream",
     "text": [
      "C:\\Users\\Dim\\Anaconda2\\lib\\site-packages\\skimage\\util\\dtype.py:110: UserWarning: Possible precision loss when converting from float64 to uint8\n",
      "  \"%s to %s\" % (dtypeobj_in, dtypeobj))\n"
     ]
    }
   ],
   "source": [
    "examples_number = 3\n",
    "examples = [img_as_ubyte(imread(os.path.join(\"Train\", str(class_number), img_name), 1)) for img_name in labels[:examples_number]]"
   ]
  },
  {
   "cell_type": "markdown",
   "metadata": {},
   "source": [
    "* Посмотрим на примеры изображений из класса №0"
   ]
  },
  {
   "cell_type": "code",
   "execution_count": 6,
   "metadata": {
    "collapsed": false
   },
   "outputs": [
    {
     "name": "stderr",
     "output_type": "stream",
     "text": [
      "C:\\Users\\Dim\\Anaconda2\\lib\\site-packages\\matplotlib\\figure.py:402: UserWarning: matplotlib is currently using a non-GUI backend, so cannot show the figure\n",
      "  \"matplotlib is currently using a non-GUI backend, \"\n"
     ]
    },
    {
     "data": {
      "image/png": "[encoded data removed]",
      "text/plain": [
       "<matplotlib.figure.Figure at 0xa6236a0>"
      ]
     },
     "metadata": {},
     "output_type": "display_data"
    }
   ],
   "source": [
    "f, (ax1, ax2, ax3) = plt.subplots(1, 3)\n",
    "ax1.imshow(examples[0])\n",
    "ax2.imshow(examples[1])\n",
    "ax3.imshow(examples[2])\n",
    "f.show()"
   ]
  },
  {
   "cell_type": "markdown",
   "metadata": {},
   "source": [
    "* Заметим, что центральная часть штрихкода совпадает у данных изображений\n",
    "* Размер изображений отличается"
   ]
  },
  {
   "cell_type": "markdown",
   "metadata": {},
   "source": [
    "#### Попытаемся выделить центральную часть штрихкода"
   ]
  },
  {
   "cell_type": "code",
   "execution_count": 7,
   "metadata": {
    "collapsed": false
   },
   "outputs": [
    {
     "data": {
      "text/plain": [
       "<matplotlib.image.AxesImage at 0xad185f8>"
      ]
     },
     "execution_count": 7,
     "metadata": {},
     "output_type": "execute_result"
    },
    {
     "data": {
      "image/png": "[encoded data removed]",
      "text/plain": [
       "<matplotlib.figure.Figure at 0xa6235f8>"
      ]
     },
     "metadata": {},
     "output_type": "display_data"
    }
   ],
   "source": [
    "img = examples[0]\n",
    "imshow(img)"
   ]
  },
  {
   "cell_type": "code",
   "execution_count": 8,
   "metadata": {
    "collapsed": false
   },
   "outputs": [
    {
     "data": {
      "text/plain": [
       "<matplotlib.image.AxesImage at 0xb2304a8>"
      ]
     },
     "execution_count": 8,
     "metadata": {},
     "output_type": "execute_result"
    },
    {
     "data": {
      "image/png": "[encoded data removed]",
      "text/plain": [
       "<matplotlib.figure.Figure at 0xade0710>"
      ]
     },
     "metadata": {},
     "output_type": "display_data"
    }
   ],
   "source": [
    "sample_class_0 = img[20:56, 20:56]\n",
    "imshow(sample_class_0)"
   ]
  },
  {
   "cell_type": "markdown",
   "metadata": {},
   "source": [
    "#### Напишем функцию для определения принадлежности классу № 0"
   ]
  },
  {
   "cell_type": "code",
   "execution_count": 9,
   "metadata": {
    "collapsed": true
   },
   "outputs": [],
   "source": [
    "def is_class_0(img):\n",
    "    sample = sample_class_0\n",
    "    sample_height, sample_width = sample.shape\n",
    "    img_height, img_width = img.shape\n",
    "    \n",
    "    for i in range(img_height - sample_height):\n",
    "        for j in range(img_width - sample_width):\n",
    "            if np.array_equal(img[i : i + sample_height, j : j + sample_width], sample):\n",
    "                return True       \n",
    "    return False"
   ]
  },
  {
   "cell_type": "markdown",
   "metadata": {},
   "source": [
    "* Проверим их на наших примерах из класса № 0"
   ]
  },
  {
   "cell_type": "code",
   "execution_count": 10,
   "metadata": {
    "collapsed": false
   },
   "outputs": [
    {
     "name": "stdout",
     "output_type": "stream",
     "text": [
      "True\n",
      "True\n",
      "True\n"
     ]
    }
   ],
   "source": [
    "for example in examples:\n",
    "    print is_class_0(example)"
   ]
  },
  {
   "cell_type": "markdown",
   "metadata": {},
   "source": [
    "* Вроды бы всё хорошо, попробуем проверить корректность для всех элементов класса"
   ]
  },
  {
   "cell_type": "code",
   "execution_count": 11,
   "metadata": {
    "collapsed": false
   },
   "outputs": [
    {
     "name": "stdout",
     "output_type": "stream",
     "text": [
      "True\n"
     ]
    }
   ],
   "source": [
    "coincidences_number = 0\n",
    "for img_name in labels:\n",
    "    img = img_as_ubyte(imread(os.path.join(\"Train\", str(class_number), img_name), 1))\n",
    "    coincidences_number += is_class_0(img)\n",
    "\n",
    "print coincidences_number == len(labels)"
   ]
  },
  {
   "cell_type": "markdown",
   "metadata": {},
   "source": [
    "* It's work!"
   ]
  },
  {
   "cell_type": "markdown",
   "metadata": {},
   "source": [
    "# Class №4"
   ]
  },
  {
   "cell_type": "code",
   "execution_count": 12,
   "metadata": {
    "collapsed": true
   },
   "outputs": [],
   "source": [
    "class_number = 4\n",
    "labels = return_labels(class_number)"
   ]
  },
  {
   "cell_type": "code",
   "execution_count": 13,
   "metadata": {
    "collapsed": false
   },
   "outputs": [],
   "source": [
    "examples = [img_as_ubyte(imread(os.path.join(\"Train\", str(class_number), img_name), 1)) for img_name in labels[:examples_number]]"
   ]
  },
  {
   "cell_type": "markdown",
   "metadata": {},
   "source": [
    "* Посмотрим на примеры изображений из класса №4"
   ]
  },
  {
   "cell_type": "code",
   "execution_count": 14,
   "metadata": {
    "collapsed": false
   },
   "outputs": [
    {
     "data": {
      "image/png": "[encoded data removed]",
      "text/plain": [
       "<matplotlib.figure.Figure at 0xad30e80>"
      ]
     },
     "metadata": {},
     "output_type": "display_data"
    }
   ],
   "source": [
    "f, (ax1, ax2, ax3) = plt.subplots(1, 3)\n",
    "ax1.imshow(examples[0])\n",
    "ax2.imshow(examples[1])\n",
    "ax3.imshow(examples[2])\n",
    "f.show()"
   ]
  },
  {
   "cell_type": "markdown",
   "metadata": {},
   "source": [
    "* Размер изображений отличается\n",
    "* Есть повторяющиеся элемент в углах изображений, надеюсь, что они одинаковы\n",
    "#### Попытаемся выделить повторяющиеся элемент:"
   ]
  },
  {
   "cell_type": "code",
   "execution_count": 15,
   "metadata": {
    "collapsed": false
   },
   "outputs": [
    {
     "data": {
      "text/plain": [
       "<matplotlib.image.AxesImage at 0xb65e320>"
      ]
     },
     "execution_count": 15,
     "metadata": {},
     "output_type": "execute_result"
    },
    {
     "data": {
      "image/png": "[encoded data removed]",
      "text/plain": [
       "<matplotlib.figure.Figure at 0xb262cf8>"
      ]
     },
     "metadata": {},
     "output_type": "display_data"
    }
   ],
   "source": [
    "img = examples[0]\n",
    "imshow(img)"
   ]
  },
  {
   "cell_type": "code",
   "execution_count": 16,
   "metadata": {
    "collapsed": false
   },
   "outputs": [
    {
     "data": {
      "text/plain": [
       "<matplotlib.image.AxesImage at 0xb856eb8>"
      ]
     },
     "execution_count": 16,
     "metadata": {},
     "output_type": "execute_result"
    },
    {
     "data": {
      "image/png": "[encoded data removed]",
      "text/plain": [
       "<matplotlib.figure.Figure at 0xb691b00>"
      ]
     },
     "metadata": {},
     "output_type": "display_data"
    }
   ],
   "source": [
    "sample_class_4 = img[16:44, 16:44]\n",
    "imshow(sample_class_4)"
   ]
  },
  {
   "cell_type": "code",
   "execution_count": 17,
   "metadata": {
    "collapsed": true
   },
   "outputs": [],
   "source": [
    "def sample_count_class_4(img):\n",
    "    sample = sample_class_4\n",
    "    sample_height, sample_width = sample.shape\n",
    "    img_height, img_width = img.shape\n",
    "    \n",
    "    count = 0\n",
    "    \n",
    "    for i in range(img_height - sample_height):\n",
    "        for j in range(img_width - sample_width):\n",
    "            if np.array_equal(img[i : i + sample_height, j : j + sample_width], sample):\n",
    "                count += 1       \n",
    "    return count"
   ]
  },
  {
   "cell_type": "markdown",
   "metadata": {},
   "source": [
    "#### Проверим количество совпадений с шаблоном на первых 10 картинках"
   ]
  },
  {
   "cell_type": "code",
   "execution_count": 18,
   "metadata": {
    "collapsed": false
   },
   "outputs": [
    {
     "name": "stdout",
     "output_type": "stream",
     "text": [
      "3\n",
      "3\n",
      "3\n",
      "3\n",
      "3\n",
      "3\n",
      "3\n",
      "3\n",
      "3\n",
      "3\n"
     ]
    }
   ],
   "source": [
    "for img_name in labels[:10]:\n",
    "    img = img_as_ubyte(imread(os.path.join(\"Train\", str(class_number), img_name), 1))\n",
    "    print sample_count_class_4(img)"
   ]
  },
  {
   "cell_type": "markdown",
   "metadata": {},
   "source": [
    "* Хм, видимо, моя гипотеза о трехкратном повторении того шаблона была верна\n",
    "#### Проверим на всех элементах четвертого класса:"
   ]
  },
  {
   "cell_type": "code",
   "execution_count": 19,
   "metadata": {
    "collapsed": true
   },
   "outputs": [],
   "source": [
    "def is_class_4(img):\n",
    "    sample = sample_class_4\n",
    "    sample_height, sample_width = sample.shape\n",
    "    img_height, img_width = img.shape\n",
    "    count = 0\n",
    "    \n",
    "    for i in range(img_height - sample_height):\n",
    "        for j in range(img_width - sample_width):\n",
    "            if np.array_equal(img[i : i + sample_height, j : j + sample_width], sample):\n",
    "                count += 1   \n",
    "                \n",
    "    if count == 3:\n",
    "        return True\n",
    "    else:\n",
    "        return False"
   ]
  },
  {
   "cell_type": "code",
   "execution_count": 20,
   "metadata": {
    "collapsed": false
   },
   "outputs": [
    {
     "name": "stdout",
     "output_type": "stream",
     "text": [
      "True\n"
     ]
    }
   ],
   "source": [
    "coincidences_number = 0\n",
    "for img_name in labels[:100]:\n",
    "    img = img_as_ubyte(imread(os.path.join(\"Train\", str(class_number), img_name), 1))\n",
    "    coincidences_number += is_class_4(img)\n",
    "\n",
    "print coincidences_number == 100"
   ]
  },
  {
   "cell_type": "markdown",
   "metadata": {},
   "source": [
    "# Class №2"
   ]
  },
  {
   "cell_type": "code",
   "execution_count": 21,
   "metadata": {
    "collapsed": true
   },
   "outputs": [],
   "source": [
    "class_number = 2\n",
    "labels = return_labels(class_number)"
   ]
  },
  {
   "cell_type": "code",
   "execution_count": 22,
   "metadata": {
    "collapsed": false
   },
   "outputs": [],
   "source": [
    "examples = [img_as_ubyte(imread(os.path.join(\"Train\", str(class_number), img_name), 1)) for img_name in labels[:examples_number]]"
   ]
  },
  {
   "cell_type": "code",
   "execution_count": 23,
   "metadata": {
    "collapsed": false
   },
   "outputs": [
    {
     "data": {
      "image/png": "[encoded data removed]",
      "text/plain": [
       "<matplotlib.figure.Figure at 0xb880f98>"
      ]
     },
     "metadata": {},
     "output_type": "display_data"
    }
   ],
   "source": [
    "f, (ax1, ax2, ax3) = plt.subplots(1, 3)\n",
    "ax1.imshow(examples[0])\n",
    "ax2.imshow(examples[1])\n",
    "ax3.imshow(examples[2])\n",
    "f.show()"
   ]
  },
  {
   "cell_type": "code",
   "execution_count": 24,
   "metadata": {
    "collapsed": false
   },
   "outputs": [
    {
     "data": {
      "text/plain": [
       "<matplotlib.image.AxesImage at 0xa73bba8>"
      ]
     },
     "execution_count": 24,
     "metadata": {},
     "output_type": "execute_result"
    },
    {
     "data": {
      "image/png": "[encoded data removed]",
      "text/plain": [
       "<matplotlib.figure.Figure at 0xb240c50>"
      ]
     },
     "metadata": {},
     "output_type": "display_data"
    }
   ],
   "source": [
    "img = examples[0]\n",
    "imshow(img)"
   ]
  },
  {
   "cell_type": "code",
   "execution_count": 25,
   "metadata": {
    "collapsed": true
   },
   "outputs": [],
   "source": [
    "ver_grad = (img[1:, :] - img[:-1, :])\n",
    "hor_grad = (img[:, 1:] - img[:, :-1])"
   ]
  },
  {
   "cell_type": "code",
   "execution_count": 26,
   "metadata": {
    "collapsed": false
   },
   "outputs": [
    {
     "data": {
      "text/plain": [
       "<matplotlib.image.AxesImage at 0xbdaf470>"
      ]
     },
     "execution_count": 26,
     "metadata": {},
     "output_type": "execute_result"
    },
    {
     "data": {
      "image/png": "[encoded data removed]",
      "text/plain": [
       "<matplotlib.figure.Figure at 0xaa3d7b8>"
      ]
     },
     "metadata": {},
     "output_type": "display_data"
    }
   ],
   "source": [
    "imshow(ver_grad)"
   ]
  },
  {
   "cell_type": "code",
   "execution_count": 27,
   "metadata": {
    "collapsed": false
   },
   "outputs": [
    {
     "data": {
      "text/plain": [
       "<matplotlib.image.AxesImage at 0xbe09668>"
      ]
     },
     "execution_count": 27,
     "metadata": {},
     "output_type": "execute_result"
    },
    {
     "data": {
      "image/png": "[encoded data removed]",
      "text/plain": [
       "<matplotlib.figure.Figure at 0xaab2e80>"
      ]
     },
     "metadata": {},
     "output_type": "display_data"
    }
   ],
   "source": [
    "imshow(hor_grad)"
   ]
  },
  {
   "cell_type": "code",
   "execution_count": 28,
   "metadata": {
    "collapsed": false
   },
   "outputs": [
    {
     "data": {
      "text/plain": [
       "0"
      ]
     },
     "execution_count": 28,
     "metadata": {},
     "output_type": "execute_result"
    }
   ],
   "source": [
    "np.sum(np.abs(ver_grad))"
   ]
  },
  {
   "cell_type": "markdown",
   "metadata": {},
   "source": [
    "* Итог: у класса №2 вертикальный разностный градиент равен 0"
   ]
  },
  {
   "cell_type": "code",
   "execution_count": 29,
   "metadata": {
    "collapsed": false
   },
   "outputs": [],
   "source": [
    "def is_class_2(img):\n",
    "    if img.shape[0] > img.shape[1]:\n",
    "        img = img.transpose() \n",
    "        \n",
    "    #обрежем границы на 5 процентов, а то в тестовой выборке этого класса есть артефакты в виде полос на границе\n",
    "    k = int(round(img.shape[0] * 5 / 100)) #5%\n",
    "    img = img[k : -k]\n",
    "        \n",
    "    ver_grad = (img[1:, :] - img[:-1, :])\n",
    "    test = np.sum(np.abs(ver_grad))\n",
    "        \n",
    "    if test == 0:\n",
    "        return True\n",
    "    else:\n",
    "        return False"
   ]
  },
  {
   "cell_type": "code",
   "execution_count": 30,
   "metadata": {
    "collapsed": false
   },
   "outputs": [
    {
     "name": "stdout",
     "output_type": "stream",
     "text": [
      "True\n"
     ]
    }
   ],
   "source": [
    "coincidences_number = 0\n",
    "for img_name in labels:\n",
    "    img = img_as_ubyte(imread(os.path.join(\"Train\", str(class_number), img_name), 1))\n",
    "    coincidences_number += is_class_2(img)\n",
    "\n",
    "print coincidences_number == len(labels)"
   ]
  },
  {
   "cell_type": "markdown",
   "metadata": {},
   "source": [
    "# Class №3"
   ]
  },
  {
   "cell_type": "code",
   "execution_count": 31,
   "metadata": {
    "collapsed": true
   },
   "outputs": [],
   "source": [
    "class_number = 3\n",
    "labels = return_labels(class_number)"
   ]
  },
  {
   "cell_type": "code",
   "execution_count": 32,
   "metadata": {
    "collapsed": true
   },
   "outputs": [],
   "source": [
    "examples = [img_as_ubyte(imread(os.path.join(\"Train\", str(class_number), img_name), 1)) for img_name in labels[:examples_number]]"
   ]
  },
  {
   "cell_type": "code",
   "execution_count": 33,
   "metadata": {
    "collapsed": false
   },
   "outputs": [
    {
     "data": {
      "image/png": "[encoded data removed]",
      "text/plain": [
       "<matplotlib.figure.Figure at 0xbdcc898>"
      ]
     },
     "metadata": {},
     "output_type": "display_data"
    }
   ],
   "source": [
    "f, (ax1, ax2, ax3) = plt.subplots(1, 3)\n",
    "ax1.imshow(examples[0])\n",
    "ax2.imshow(examples[1])\n",
    "ax3.imshow(examples[2])\n",
    "f.show()"
   ]
  },
  {
   "cell_type": "code",
   "execution_count": 34,
   "metadata": {
    "collapsed": false
   },
   "outputs": [
    {
     "data": {
      "text/plain": [
       "<matplotlib.image.AxesImage at 0xc759cf8>"
      ]
     },
     "execution_count": 34,
     "metadata": {},
     "output_type": "execute_result"
    },
    {
     "data": {
      "image/png": "[encoded data removed]",
      "text/plain": [
       "<matplotlib.figure.Figure at 0xa758c50>"
      ]
     },
     "metadata": {},
     "output_type": "display_data"
    }
   ],
   "source": [
    "img = examples[0]\n",
    "imshow(img)"
   ]
  },
  {
   "cell_type": "markdown",
   "metadata": {},
   "source": [
    "* Вроде бы у всех элементов одинаковы поля справа и слева"
   ]
  },
  {
   "cell_type": "code",
   "execution_count": 35,
   "metadata": {
    "collapsed": false
   },
   "outputs": [
    {
     "data": {
      "text/plain": [
       "<matplotlib.image.AxesImage at 0xcb5ed68>"
      ]
     },
     "execution_count": 35,
     "metadata": {},
     "output_type": "execute_result"
    },
    {
     "data": {
      "image/png": "[encoded data removed]",
      "text/plain": [
       "<matplotlib.figure.Figure at 0xc7badd8>"
      ]
     },
     "metadata": {},
     "output_type": "display_data"
    }
   ],
   "source": [
    "sample_class_3_1 = img[20:21, 20:62]\n",
    "imshow(sample_class_3_1)"
   ]
  },
  {
   "cell_type": "code",
   "execution_count": 36,
   "metadata": {
    "collapsed": false
   },
   "outputs": [
    {
     "data": {
      "text/plain": [
       "<matplotlib.image.AxesImage at 0xcbcf9e8>"
      ]
     },
     "execution_count": 36,
     "metadata": {},
     "output_type": "execute_result"
    },
    {
     "data": {
      "image/png": "[encoded data removed]",
      "text/plain": [
       "<matplotlib.figure.Figure at 0xca49390>"
      ]
     },
     "metadata": {},
     "output_type": "display_data"
    }
   ],
   "source": [
    "sample_class_3_2 = img[20:21, 479:533]\n",
    "imshow(sample_class_3_2)"
   ]
  },
  {
   "cell_type": "code",
   "execution_count": 37,
   "metadata": {
    "collapsed": true
   },
   "outputs": [],
   "source": [
    "def is_class_3(img):\n",
    "    if img.shape[0] > img.shape[1]:\n",
    "        img = img.transpose() \n",
    "     \n",
    "    #обрежем изображение для ускорения поиска\n",
    "    k = int(round(img.shape[0] * 30 / 100)) #30%\n",
    "    img = img[k : -k]\n",
    "        \n",
    "    img_height, img_width = img.shape\n",
    "        \n",
    "    sample_1 = sample_class_3_1\n",
    "    sample_2 = sample_class_3_2\n",
    "    \n",
    "    sample_1_reverse = np.rot90(np.rot90(sample_1))\n",
    "    sample_2_reverse = np.rot90(np.rot90(sample_2))\n",
    "    \n",
    "    sample_1_height, sample_1_width = sample_1.shape\n",
    "    sample_2_height, sample_2_width = sample_2.shape\n",
    "    \n",
    "    count_sample_1, count_sample_2 = 0, 0\n",
    "    lines = set()\n",
    "    \n",
    "    for i in range(img_height - sample_1_height):\n",
    "        for j in range(img_width - sample_1_width):\n",
    "            if np.array_equal(img[i : i + sample_1_height, j : j + sample_1_width], sample_1) or \\\n",
    "            np.array_equal(img[i : i + sample_1_height, j : j + sample_1_width], sample_1_reverse):\n",
    "                count_sample_1 += 1\n",
    "                lines.add(i)       \n",
    "        if count_sample_1 >= 6: break\n",
    "                \n",
    "    for i in lines:\n",
    "        for j in range(img_width - sample_2_width):\n",
    "            if np.array_equal(img[i : i + sample_2_height, j : j + sample_2_width], sample_2) or \\\n",
    "            np.array_equal(img[i : i + sample_2_height, j : j + sample_2_width], sample_2_reverse):\n",
    "                count_sample_2 += 1\n",
    "    \n",
    "    if count_sample_1 >= 6 and count_sample_1 == count_sample_2:\n",
    "        return True\n",
    "    else:\n",
    "        return False"
   ]
  },
  {
   "cell_type": "code",
   "execution_count": 38,
   "metadata": {
    "collapsed": false
   },
   "outputs": [
    {
     "name": "stdout",
     "output_type": "stream",
     "text": [
      "True\n"
     ]
    }
   ],
   "source": [
    "coincidences_number = 0\n",
    "for img_name in labels[:100]:\n",
    "    img = img_as_ubyte(imread(os.path.join(\"Train\", str(class_number), img_name), 1))\n",
    "    coincidences_number += is_class_3(img)\n",
    "\n",
    "print coincidences_number == 100"
   ]
  },
  {
   "cell_type": "markdown",
   "metadata": {},
   "source": [
    "# Class №1"
   ]
  },
  {
   "cell_type": "code",
   "execution_count": 39,
   "metadata": {
    "collapsed": true
   },
   "outputs": [],
   "source": [
    "class_number = 1\n",
    "labels = return_labels(class_number)"
   ]
  },
  {
   "cell_type": "code",
   "execution_count": 40,
   "metadata": {
    "collapsed": true
   },
   "outputs": [],
   "source": [
    "examples = [img_as_ubyte(imread(os.path.join(\"Train\", str(class_number), img_name), 1)) for img_name in labels[:examples_number]]"
   ]
  },
  {
   "cell_type": "code",
   "execution_count": 41,
   "metadata": {
    "collapsed": false
   },
   "outputs": [
    {
     "data": {
      "image/png": "[encoded data removed]",
      "text/plain": [
       "<matplotlib.figure.Figure at 0xca77ef0>"
      ]
     },
     "metadata": {},
     "output_type": "display_data"
    }
   ],
   "source": [
    "f, (ax1, ax2, ax3) = plt.subplots(1, 3)\n",
    "ax1.imshow(examples[0])\n",
    "ax2.imshow(examples[1])\n",
    "ax3.imshow(examples[2])\n",
    "f.show()"
   ]
  },
  {
   "cell_type": "code",
   "execution_count": 42,
   "metadata": {
    "collapsed": false
   },
   "outputs": [
    {
     "data": {
      "text/plain": [
       "<matplotlib.image.AxesImage at 0xa9b02b0>"
      ]
     },
     "execution_count": 42,
     "metadata": {},
     "output_type": "execute_result"
    },
    {
     "data": {
      "image/png": "[encoded data removed]",
      "text/plain": [
       "<matplotlib.figure.Figure at 0xc404278>"
      ]
     },
     "metadata": {},
     "output_type": "display_data"
    }
   ],
   "source": [
    "img = examples[0]\n",
    "imshow(img)"
   ]
  },
  {
   "cell_type": "code",
   "execution_count": 43,
   "metadata": {
    "collapsed": true
   },
   "outputs": [],
   "source": [
    "def is_class_1(img):\n",
    "    if img.shape[0] > img.shape[1]:\n",
    "        img = img.transpose() \n",
    "        \n",
    "    #обрежем изображение для ускорения поиска\n",
    "    k = int(round(img.shape[0] * 5 / 100)) #5%\n",
    "    img_1 = img[k : -10 * k]\n",
    "        \n",
    "    ver_grad = (img_1[1:, :] - img_1[:-1, :])\n",
    "    test = np.sum(np.abs(ver_grad))\n",
    "        \n",
    "    if test == 0:\n",
    "        return True\n",
    "    else:\n",
    "        img = np.rot90(np.rot90(img))\n",
    "        img_2 = img[k : -10 * k]\n",
    "        \n",
    "        ver_grad = (img_2[1:, :] - img_2[:-1, :])\n",
    "        test = np.sum(np.abs(ver_grad))\n",
    "        \n",
    "        if test == 0:\n",
    "            return True\n",
    "        else:\n",
    "            return False"
   ]
  },
  {
   "cell_type": "code",
   "execution_count": 44,
   "metadata": {
    "collapsed": false
   },
   "outputs": [
    {
     "name": "stdout",
     "output_type": "stream",
     "text": [
      "True\n"
     ]
    }
   ],
   "source": [
    "coincidences_number = 0\n",
    "for img_name in labels[:200]:\n",
    "    img = img_as_ubyte(imread(os.path.join(\"Train\", str(class_number), img_name), 1))\n",
    "    coincidences_number += is_class_1(img)\n",
    "\n",
    "print coincidences_number == 200"
   ]
  },
  {
   "cell_type": "markdown",
   "metadata": {},
   "source": [
    "# Остальные изображения будем причислять классу №5"
   ]
  },
  {
   "cell_type": "markdown",
   "metadata": {},
   "source": [
    "* Проверим, что предыдущие рассуждения не применимы к классу №5"
   ]
  },
  {
   "cell_type": "code",
   "execution_count": 45,
   "metadata": {
    "collapsed": true
   },
   "outputs": [],
   "source": [
    "class_number = 5\n",
    "labels = return_labels(class_number)"
   ]
  },
  {
   "cell_type": "code",
   "execution_count": 46,
   "metadata": {
    "collapsed": true
   },
   "outputs": [],
   "source": [
    "examples = [img_as_ubyte(imread(os.path.join(\"Train\", str(class_number), img_name), 1)) for img_name in labels[:examples_number]]"
   ]
  },
  {
   "cell_type": "code",
   "execution_count": 47,
   "metadata": {
    "collapsed": false
   },
   "outputs": [
    {
     "data": {
      "image/png": "[encoded data removed]",
      "text/plain": [
       "<matplotlib.figure.Figure at 0xa984da0>"
      ]
     },
     "metadata": {},
     "output_type": "display_data"
    }
   ],
   "source": [
    "f, (ax1, ax2, ax3) = plt.subplots(1, 3)\n",
    "ax1.imshow(examples[0])\n",
    "ax2.imshow(examples[1])\n",
    "ax3.imshow(examples[2])\n",
    "f.show()"
   ]
  },
  {
   "cell_type": "code",
   "execution_count": 48,
   "metadata": {
    "collapsed": false
   },
   "outputs": [
    {
     "data": {
      "text/plain": [
       "<matplotlib.image.AxesImage at 0xb577668>"
      ]
     },
     "execution_count": 48,
     "metadata": {},
     "output_type": "execute_result"
    },
    {
     "data": {
      "image/png": "[encoded data removed]",
      "text/plain": [
       "<matplotlib.figure.Figure at 0xa6fd400>"
      ]
     },
     "metadata": {},
     "output_type": "display_data"
    }
   ],
   "source": [
    "img = examples[0]\n",
    "imshow(img)"
   ]
  },
  {
   "cell_type": "markdown",
   "metadata": {},
   "source": [
    "#### Определим предсказывающую функцию"
   ]
  },
  {
   "cell_type": "code",
   "execution_count": 49,
   "metadata": {
    "collapsed": true
   },
   "outputs": [],
   "source": [
    "def predict_class(img):\n",
    "    if is_class_0(img): return 0\n",
    "    if is_class_4(img): return 4\n",
    "    if is_class_2(img): return 2\n",
    "    if is_class_3(img): return 3\n",
    "    if is_class_1(img): return 1\n",
    "    return 5"
   ]
  },
  {
   "cell_type": "code",
   "execution_count": 50,
   "metadata": {
    "collapsed": false
   },
   "outputs": [
    {
     "name": "stdout",
     "output_type": "stream",
     "text": [
      "True\n"
     ]
    }
   ],
   "source": [
    "coincidences_number = 0\n",
    "\n",
    "for img_name in labels[:20]:\n",
    "    img = img_as_ubyte(imread(os.path.join(\"Train\", str(class_number), img_name), 1))\n",
    "    coincidences_number += (predict_class(img) == 5)\n",
    "\n",
    "print coincidences_number == 20"
   ]
  },
  {
   "cell_type": "markdown",
   "metadata": {},
   "source": [
    "# Сделаем предсказание для тестовой выборки:"
   ]
  },
  {
   "cell_type": "code",
   "execution_count": 51,
   "metadata": {
    "collapsed": false
   },
   "outputs": [
    {
     "name": "stderr",
     "output_type": "stream",
     "text": [
      "C:\\Users\\Dim\\Anaconda2\\lib\\site-packages\\skimage\\util\\dtype.py:110: UserWarning: Possible precision loss when converting from uint16 to uint8\n",
      "  \"%s to %s\" % (dtypeobj_in, dtypeobj))\n"
     ]
    }
   ],
   "source": [
    "with open('sampleSubmission.csv') as infile:\n",
    "    reader = csv.DictReader(infile)\n",
    "    \n",
    "    with open('answer.csv', 'w') as outfile:\n",
    "        fieldnames = ['# fname', 'class']\n",
    "        writer = csv.DictWriter(outfile, fieldnames=fieldnames)\n",
    "        writer.writeheader()    \n",
    "    \n",
    "        for row in reader:\n",
    "            img_name = row['# fname']\n",
    "            img = img_as_ubyte(imread(os.path.join(\"Test\", img_name), 1))\n",
    "            prediction = predict_class(img)\n",
    "                        \n",
    "            writer.writerow({'# fname': img_name, 'class': prediction})"
   ]
  },
  {
   "cell_type": "markdown",
   "metadata": {},
   "source": [
    "## Класс №1"
   ]
  },
  {
   "cell_type": "markdown",
   "metadata": {},
   "source": [
    "* На этих штрихкодах есть буквы/цифры"
   ]
  },
  {
   "cell_type": "code",
   "execution_count": 52,
   "metadata": {
    "collapsed": true
   },
   "outputs": [],
   "source": [
    "class_number = 1\n",
    "labels = return_labels(class_number)"
   ]
  },
  {
   "cell_type": "code",
   "execution_count": 53,
   "metadata": {
    "collapsed": true
   },
   "outputs": [],
   "source": [
    "examples = [img_as_ubyte(imread(os.path.join(\"Train\", str(class_number), img_name), 1)) for img_name in labels[:examples_number]]"
   ]
  },
  {
   "cell_type": "code",
   "execution_count": 54,
   "metadata": {
    "collapsed": false
   },
   "outputs": [
    {
     "data": {
      "image/png": "[encoded data removed]",
      "text/plain": [
       "<matplotlib.figure.Figure at 0xd1e3cc0>"
      ]
     },
     "metadata": {},
     "output_type": "display_data"
    }
   ],
   "source": [
    "f, (ax1, ax2, ax3) = plt.subplots(1, 3)\n",
    "ax1.imshow(examples[0])\n",
    "ax2.imshow(examples[1])\n",
    "ax3.imshow(examples[2])\n",
    "f.show()"
   ]
  },
  {
   "cell_type": "code",
   "execution_count": 55,
   "metadata": {
    "collapsed": false
   },
   "outputs": [
    {
     "data": {
      "text/plain": [
       "<matplotlib.image.AxesImage at 0xd789940>"
      ]
     },
     "execution_count": 55,
     "metadata": {},
     "output_type": "execute_result"
    },
    {
     "data": {
      "image/png": "[encoded data removed]",
      "text/plain": [
       "<matplotlib.figure.Figure at 0xaa6f748>"
      ]
     },
     "metadata": {},
     "output_type": "display_data"
    }
   ],
   "source": [
    "img = examples[0]\n",
    "imshow(img)"
   ]
  },
  {
   "cell_type": "markdown",
   "metadata": {},
   "source": [
    "#### Попробуем выделить буквы/цифры:"
   ]
  },
  {
   "cell_type": "code",
   "execution_count": 56,
   "metadata": {
    "collapsed": true
   },
   "outputs": [],
   "source": [
    "end_line = img.shape[0] - 1\n",
    "width = img.shape[1]"
   ]
  },
  {
   "cell_type": "code",
   "execution_count": 57,
   "metadata": {
    "collapsed": false
   },
   "outputs": [],
   "source": [
    "while np.array_equal(img[end_line], np.zeros(width) + img[end_line,0]):\n",
    "    end_line -= 1"
   ]
  },
  {
   "cell_type": "code",
   "execution_count": 58,
   "metadata": {
    "collapsed": false
   },
   "outputs": [],
   "source": [
    "start_line = end_line\n",
    "\n",
    "while not np.array_equal(img[start_line], np.zeros(width) + img[start_line,0]):\n",
    "    start_line -= 1"
   ]
  },
  {
   "cell_type": "code",
   "execution_count": 59,
   "metadata": {
    "collapsed": false
   },
   "outputs": [
    {
     "data": {
      "text/plain": [
       "<matplotlib.image.AxesImage at 0xdacf908>"
      ]
     },
     "execution_count": 59,
     "metadata": {},
     "output_type": "execute_result"
    },
    {
     "data": {
      "image/png": "[encoded data removed]",
      "text/plain": [
       "<matplotlib.figure.Figure at 0xd1fab70>"
      ]
     },
     "metadata": {},
     "output_type": "display_data"
    }
   ],
   "source": [
    "imshow(img[start_line:end_line])"
   ]
  },
  {
   "cell_type": "code",
   "execution_count": 60,
   "metadata": {
    "collapsed": true
   },
   "outputs": [],
   "source": [
    "img = img[start_line:end_line]\n",
    "height = img.shape[0]"
   ]
  },
  {
   "cell_type": "code",
   "execution_count": 61,
   "metadata": {
    "collapsed": false
   },
   "outputs": [],
   "source": [
    "start_column = 0\n",
    "while np.array_equal(img[:, start_column], np.zeros(height) + img[0, start_column]):\n",
    "    start_column += 1"
   ]
  },
  {
   "cell_type": "code",
   "execution_count": 62,
   "metadata": {
    "collapsed": true
   },
   "outputs": [],
   "source": [
    "end_column = img.shape[1] - 1\n",
    "while np.array_equal(img[:, end_column], np.zeros(height) + img[0, end_column]):\n",
    "    end_column -= 1"
   ]
  },
  {
   "cell_type": "code",
   "execution_count": 63,
   "metadata": {
    "collapsed": false
   },
   "outputs": [],
   "source": [
    "img = img[:, start_column:end_column]"
   ]
  },
  {
   "cell_type": "code",
   "execution_count": 64,
   "metadata": {
    "collapsed": false
   },
   "outputs": [
    {
     "data": {
      "text/plain": [
       "<matplotlib.image.AxesImage at 0xdb80198>"
      ]
     },
     "execution_count": 64,
     "metadata": {},
     "output_type": "execute_result"
    },
    {
     "data": {
      "image/png": "[encoded data removed]",
      "text/plain": [
       "<matplotlib.figure.Figure at 0xdaeb240>"
      ]
     },
     "metadata": {},
     "output_type": "display_data"
    }
   ],
   "source": [
    "imshow(img)"
   ]
  },
  {
   "cell_type": "markdown",
   "metadata": {},
   "source": [
    "* но дальше дело не пошло."
   ]
  }
 ],
 "metadata": {
  "kernelspec": {
   "display_name": "Python 2",
   "language": "python",
   "name": "python2"
  },
  "language_info": {
   "codemirror_mode": {
    "name": "ipython",
    "version": 2
   },
   "file_extension": ".py",
   "mimetype": "text/x-python",
   "name": "python",
   "nbconvert_exporter": "python",
   "pygments_lexer": "ipython2",
   "version": "2.7.13"
  }
 },
 "nbformat": 4,
 "nbformat_minor": 2
}
